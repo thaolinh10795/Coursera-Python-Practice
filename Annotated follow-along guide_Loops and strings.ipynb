{
 "cells": [
  {
   "cell_type": "markdown",
   "id": "9f0afa4e-3d50-457a-b8a9-c143e1b7878b",
   "metadata": {},
   "source": [
    "# Annotated follow-along guide: Loops and strings\n",
    "\n",
    "To skip directly to the code for a particular video, use the following links:\n",
    "\n",
    "1.   **[Introduction to while loops](##1)**\n",
    "2.   **[Introduction to for loops](##2)**\n",
    "3.   **[Work with strings](##3)**\n"
   ]
  },
  {
   "cell_type": "markdown",
   "id": "a98b561a-f40c-4ecd-89af-dd5e3d25a214",
   "metadata": {},
   "source": [
    "<a id=\"1\"></a>\n",
    "##1. [Introduction to while loops](https://www.coursera.org/learn/get-started-with-python/lecture/M0dCL/introduction-to-while-loops)"
   ]
  },
  {
   "cell_type": "markdown",
   "id": "ada49827-10a5-4ee2-9ac2-6ff55fc06deb",
   "metadata": {},
   "source": [
    "<a id=\"2\"></a>\n",
    "## 2. [Introduction to for loops](https://www.coursera.org/learn/get-started-with-python/lecture/VKOIA/introduction-to-for-loops)"
   ]
  },
  {
   "cell_type": "markdown",
   "id": "49eb20b3-2c2f-4b1f-9c7b-4c320a11247b",
   "metadata": {},
   "source": [
    "<a id=\"3\"></a>\n",
    "## 3. [Work with strings](https://www.coursera.org/learn/get-started-with-python/lecture/k88nO/work-with-strings)"
   ]
  }
 ],
 "metadata": {
  "kernelspec": {
   "display_name": "Python 3 (ipykernel)",
   "language": "python",
   "name": "python3"
  },
  "language_info": {
   "codemirror_mode": {
    "name": "ipython",
    "version": 3
   },
   "file_extension": ".py",
   "mimetype": "text/x-python",
   "name": "python",
   "nbconvert_exporter": "python",
   "pygments_lexer": "ipython3",
   "version": "3.12.5"
  }
 },
 "nbformat": 4,
 "nbformat_minor": 5
}
